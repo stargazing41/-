{
 "cells": [
  {
   "cell_type": "code",
   "execution_count": 175,
   "metadata": {},
   "outputs": [],
   "source": [
    "def exclam (num):\n",
    "    n=num-1\n",
    "    i=1\n",
    "    fnum=num\n",
    "    if num<0:\n",
    "        print(\"not difined what is %d exclmation? probubly...\"%num)\n",
    "    while(i<=num):\n",
    "        fnum=fnum*n\n",
    "        n=n-1\n",
    "        i=i+1\n",
    "    return(fnum)"
   ]
  },
  {
   "cell_type": "code",
   "execution_count": 176,
   "metadata": {},
   "outputs": [
    {
     "name": "stdout",
     "output_type": "stream",
     "text": [
      "not difined what is -10 exclmation? probubly...\n"
     ]
    },
    {
     "data": {
      "text/plain": [
       "-10"
      ]
     },
     "execution_count": 176,
     "metadata": {},
     "output_type": "execute_result"
    }
   ],
   "source": [
    "exclam(-10)"
   ]
  },
  {
   "cell_type": "code",
   "execution_count": 206,
   "metadata": {},
   "outputs": [],
   "source": [
    "def exclamEasy (num):\n",
    "    fnum=num\n",
    "    if num<0:\n",
    "        print(\"not difined what is %d exclmation? probubly...\"%num)\n",
    "    while(num>1):\n",
    "        num=num-1\n",
    "        fnum=fnum*num\n",
    "    print(fnum)"
   ]
  },
  {
   "cell_type": "code",
   "execution_count": 214,
   "metadata": {},
   "outputs": [
    {
     "name": "stdout",
     "output_type": "stream",
     "text": [
      "120\n"
     ]
    }
   ],
   "source": [
    "exclamEasy(5)"
   ]
  }
 ],
 "metadata": {
  "kernelspec": {
   "display_name": "Python 3",
   "language": "python",
   "name": "python3"
  },
  "language_info": {
   "codemirror_mode": {
    "name": "ipython",
    "version": 3
   },
   "file_extension": ".py",
   "mimetype": "text/x-python",
   "name": "python",
   "nbconvert_exporter": "python",
   "pygments_lexer": "ipython3",
   "version": "3.7.7"
  }
 },
 "nbformat": 4,
 "nbformat_minor": 4
}
